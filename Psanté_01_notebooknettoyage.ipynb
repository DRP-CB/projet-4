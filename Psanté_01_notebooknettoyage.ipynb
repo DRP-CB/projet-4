{
 "cells": [
  {
   "cell_type": "markdown",
   "id": "deebea9d-31b2-4133-b812-1bf0c611dd77",
   "metadata": {},
   "source": [
    "# Notebook de nettoyage"
   ]
  },
  {
   "cell_type": "markdown",
   "id": "6d1ff89e-dd9c-4136-837c-7dc604b86a58",
   "metadata": {},
   "source": [
    "Dans le cadre du développement d'une application au service de la santé publique nous préparons les données nécessaires à une analyse de faisabilité."
   ]
  },
  {
   "cell_type": "markdown",
   "id": "5f682f17-684d-4f42-94d0-3542671f4f83",
   "metadata": {},
   "source": [
    "L'application proposée aura pour but de répandre l'usage du nutriscore sur les produits disponibles en France."
   ]
  },
  {
   "cell_type": "markdown",
   "id": "39494ef5-9c34-43ad-bdfd-5855aa77363d",
   "metadata": {},
   "source": [
    "L'intérêt de ce projet est de permettre au consomateur de **connaitre le profil nutritif d'une aliment quand bien même celui-ci ne serait pas affiché sur l'emballage.**"
   ]
  },
  {
   "cell_type": "markdown",
   "id": "f1f14435-908b-4d36-8041-e5ed9b284d21",
   "metadata": {},
   "source": [
    "Cette étape de préparation des données à l'analyse a pour but de:\n",
    "* récupérer des variables pertinentes pour l'application\n",
    "* retirer les articles n'étant pas disponibles en France\n",
    "* imputer les données manquantes nécessaires"
   ]
  },
  {
   "cell_type": "markdown",
   "id": "754f93b5-61d9-4430-b3ad-487f4b50b0c3",
   "metadata": {},
   "source": [
    "Les données utilisées proviennent de la base de données OpenFoodFacts"
   ]
  },
  {
   "cell_type": "code",
   "execution_count": 1,
   "id": "2a4b7aba-c2c9-4f21-8212-db0bb5815fc1",
   "metadata": {},
   "outputs": [],
   "source": [
    "import numpy as np\n",
    "import pandas as pd\n",
    "import matplotlib.pyplot as plt\n",
    "import seaborn as sns\n",
    "from sklearn.neighbors import KNeighborsRegressor\n",
    "from sklearn.model_selection import KFold, cross_val_score, train_test_split\n",
    "from sklearn.impute import KNNImputer"
   ]
  },
  {
   "cell_type": "markdown",
   "id": "105b79ec-e27b-4bdd-85b1-abba2525657f",
   "metadata": {},
   "source": [
    "Nous chargeons en mémoire les données qui sont au départ sous format tsv (tab separated variable)"
   ]
  },
  {
   "cell_type": "code",
   "execution_count": 2,
   "id": "aa15f447-fe44-4c49-b7b9-ae92f3c6a9ed",
   "metadata": {},
   "outputs": [
    {
     "name": "stderr",
     "output_type": "stream",
     "text": [
      "/home/paul/anaconda3/lib/python3.8/site-packages/IPython/core/interactiveshell.py:3165: DtypeWarning: Columns (0,8,13,27,28,29,31,47,52,55,64) have mixed types.Specify dtype option on import or set low_memory=False.\n",
      "  has_raised = await self.run_ast_nodes(code_ast.body, cell_name,\n"
     ]
    }
   ],
   "source": [
    "rawData = pd.read_csv('openfoodfacts.csv',sep='\\t')"
   ]
  },
  {
   "cell_type": "code",
   "execution_count": 3,
   "id": "be35b303-cd75-432f-958d-88ab994d8043",
   "metadata": {},
   "outputs": [],
   "source": [
    "# cette fonction permet d'expliciter automatiquement la description globale d'un tableau\n",
    "def print_shape(dataframe): \n",
    "    print(\"Il s'agit d'un tableau de\",\n",
    "          dataframe.shape[0],'lignes et',\n",
    "          dataframe.shape[1], \"colonnes.\")"
   ]
  },
  {
   "cell_type": "code",
   "execution_count": 4,
   "id": "c561456e-ae71-4e73-ad3a-b33b5866543f",
   "metadata": {},
   "outputs": [
    {
     "name": "stdout",
     "output_type": "stream",
     "text": [
      "Il s'agit d'un tableau de 1865997 lignes et 186 colonnes.\n"
     ]
    }
   ],
   "source": [
    "print_shape(rawData)"
   ]
  },
  {
   "cell_type": "markdown",
   "id": "afbf6e84-9326-4e6d-a5d1-8d9d60c779b3",
   "metadata": {},
   "source": [
    "## Filtrage en fonction de la problématique\n",
    "Nous avons besoin d'avoir :\n",
    "- des informations nutritionnelles \n",
    "- sur des produits français"
   ]
  },
  {
   "cell_type": "code",
   "execution_count": 5,
   "id": "0d7546a1-91d8-404c-b0d4-0957ef51560f",
   "metadata": {},
   "outputs": [
    {
     "data": {
      "text/plain": [
       "Index(['code', 'url', 'creator', 'created_t', 'created_datetime',\n",
       "       'last_modified_t', 'last_modified_datetime', 'product_name',\n",
       "       'abbreviated_product_name', 'generic_name',\n",
       "       ...\n",
       "       'carbon-footprint-from-meat-or-fish_100g', 'nutrition-score-fr_100g',\n",
       "       'nutrition-score-uk_100g', 'glycemic-index_100g', 'water-hardness_100g',\n",
       "       'choline_100g', 'phylloquinone_100g', 'beta-glucan_100g',\n",
       "       'inositol_100g', 'carnitine_100g'],\n",
       "      dtype='object', length=186)"
      ]
     },
     "execution_count": 5,
     "metadata": {},
     "output_type": "execute_result"
    }
   ],
   "source": [
    "rawData.columns"
   ]
  },
  {
   "cell_type": "markdown",
   "id": "faca60bf-b0fc-4686-a944-99c73f939139",
   "metadata": {},
   "source": [
    "Au nombre de 186, l'exploration des colonnes n'est pas aisée."
   ]
  },
  {
   "cell_type": "markdown",
   "id": "9ef22c73-5596-4abc-91ff-403bc6b9df4e",
   "metadata": {},
   "source": [
    "Nous allons utiliser une fonction de recherche pour trouver celles qui nous intéressent."
   ]
  },
  {
   "cell_type": "code",
   "execution_count": 6,
   "id": "a721f5ac-b1bc-42b0-8321-fac87c0dff61",
   "metadata": {},
   "outputs": [],
   "source": [
    "# cette fonction va nous permettre de rechercher des colonnes pertinentes à notre problématique\n",
    "def find_column(dataframe,keyword):\n",
    "    return(list(dataframe.columns[\n",
    "          (dataframe.columns.to_series()).str.contains(keyword,case=False)].values))"
   ]
  },
  {
   "cell_type": "markdown",
   "id": "98f1152b-5720-4420-80c6-f6da7754fd8b",
   "metadata": {},
   "source": [
    "#### L'objectif ici va être de construire une **liste de noms de colonnes** nous permettant de trier notre dataset"
   ]
  },
  {
   "cell_type": "code",
   "execution_count": 7,
   "id": "9f040336-0207-458e-b5cd-b8062b9585b9",
   "metadata": {},
   "outputs": [],
   "source": [
    "listeTri = [] # initialisation de la colonne"
   ]
  },
  {
   "cell_type": "markdown",
   "id": "110f9444-50e6-4069-9213-08c5b7180c7b",
   "metadata": {},
   "source": [
    "### Informations nutritionnelles"
   ]
  },
  {
   "cell_type": "markdown",
   "id": "8b4c2285-97e9-4b19-9c38-cd443f239e6a",
   "metadata": {},
   "source": [
    "Pour étudier le nutriscore nous devons nous intéresser à la quantité de :\n",
    "- sel\n",
    "- sucre\n",
    "- calories\n",
    "- graisse\n",
    "- fibres\n",
    "- protéines \n",
    "- fruits / légumes et fruits à coque\n",
    "\n",
    "Référence : Chantal, J., Hercberg, S., & World Health Organization. (2017). Development of a new front-of-pack nutrition label in France: the five-colour Nutri-Score. Public Health Panorama, 3(04), 712-725."
   ]
  },
  {
   "cell_type": "markdown",
   "id": "21a78dbe-0139-4adf-b9c0-1ac99983d0e7",
   "metadata": {},
   "source": [
    "Cette liste de thèmes de recherche va nous permettre de trouver les colonnes relatives au nutriscore."
   ]
  },
  {
   "cell_type": "code",
   "execution_count": 8,
   "id": "6132d490-945c-4d36-a261-5bfed79d3f6f",
   "metadata": {},
   "outputs": [],
   "source": [
    "# On cherche ici tout ce qui est relatif aux éléments de calcul du nutriscore\n",
    "# Ainsi que toute mesure de score pouvant déjà être présente dans le jeu de données\n",
    "themesNutrition = ['salt',\n",
    "                   'sugar',\n",
    "                   'energy',\n",
    "                   'fat',\n",
    "                   'fiber',\n",
    "                   'protein',\n",
    "                   'fruit',\n",
    "                   'score']"
   ]
  },
  {
   "cell_type": "markdown",
   "id": "3b5d7ba4-b0a4-433f-95b4-f4859a471615",
   "metadata": {},
   "source": [
    "Nous effectuons une recherche par terme et ajoutons les résultats de la recherche à notre liste de tri."
   ]
  },
  {
   "cell_type": "code",
   "execution_count": 9,
   "id": "a545bf7f-b4ad-47eb-b650-a3009fb55598",
   "metadata": {},
   "outputs": [],
   "source": [
    "for theme in themesNutrition:\n",
    "    indics = find_column(rawData,theme) # la fonction de recherche itérée sur chaque terme\n",
    "    for indic in indics: # la deuxième boucle est nécessaire pour avoir une liste non nestée\n",
    "        listeTri.append(indic)"
   ]
  },
  {
   "cell_type": "markdown",
   "id": "90674585-9f87-49ad-81d2-665dc26fe4e4",
   "metadata": {},
   "source": [
    "Notre liste contient désormais toutes les valeurs relatives au nutriscore, nous l'utiliserons pour trier les colonnes après avoir filtré les produits indisponibles en France."
   ]
  },
  {
   "cell_type": "code",
   "execution_count": 10,
   "id": "5b3d841a-7f03-4dd3-a227-969a12bd1e3c",
   "metadata": {},
   "outputs": [
    {
     "data": {
      "text/plain": [
       "['salt_100g',\n",
       " 'sugars_100g',\n",
       " 'energy-kj_100g',\n",
       " 'energy-kcal_100g',\n",
       " 'energy_100g',\n",
       " 'energy-from-fat_100g',\n",
       " 'energy-from-fat_100g',\n",
       " 'fat_100g',\n",
       " 'saturated-fat_100g',\n",
       " 'monounsaturated-fat_100g',\n",
       " 'polyunsaturated-fat_100g',\n",
       " 'omega-3-fat_100g',\n",
       " 'omega-6-fat_100g',\n",
       " 'omega-9-fat_100g',\n",
       " 'trans-fat_100g',\n",
       " 'fiber_100g',\n",
       " '-soluble-fiber_100g',\n",
       " '-insoluble-fiber_100g',\n",
       " 'proteins_100g',\n",
       " 'serum-proteins_100g',\n",
       " 'collagen-meat-protein-ratio_100g',\n",
       " 'fruits-vegetables-nuts_100g',\n",
       " 'fruits-vegetables-nuts-dried_100g',\n",
       " 'fruits-vegetables-nuts-estimate_100g',\n",
       " 'nutriscore_score',\n",
       " 'nutriscore_grade',\n",
       " 'ecoscore_score_fr',\n",
       " 'ecoscore_grade_fr',\n",
       " 'nutrition-score-fr_100g',\n",
       " 'nutrition-score-uk_100g']"
      ]
     },
     "execution_count": 10,
     "metadata": {},
     "output_type": "execute_result"
    }
   ],
   "source": [
    "listeTri"
   ]
  },
  {
   "cell_type": "markdown",
   "id": "bc13ef11-9300-4385-8e2d-b65d3e9c2813",
   "metadata": {},
   "source": [
    "### Produits indisponibles en France\n",
    "Dans la mesure où l'application est destinée au territoire français il n'est pas necessaire de fournir des renseignements sur des produits indisponibles dans le pays."
   ]
  },
  {
   "cell_type": "markdown",
   "id": "1cda2aad-6612-47f3-a26f-84e994708cd8",
   "metadata": {},
   "source": [
    "Recherche d'une colonne relative au pays nous permettant de faire un tri."
   ]
  },
  {
   "cell_type": "code",
   "execution_count": 11,
   "id": "21971c86-aa29-4845-8b7b-709a8a9a75cb",
   "metadata": {},
   "outputs": [
    {
     "data": {
      "text/plain": [
       "['countries', 'countries_tags', 'countries_en']"
      ]
     },
     "execution_count": 11,
     "metadata": {},
     "output_type": "execute_result"
    }
   ],
   "source": [
    "countryIndics = find_column(rawData,'countries')\n",
    "countryIndics"
   ]
  },
  {
   "cell_type": "markdown",
   "id": "9cf0d4df-80fc-487c-9370-0ba6fc43a7db",
   "metadata": {},
   "source": [
    "Trois colonnes semblent répondre à nos critères mais laquelle utiliser ?"
   ]
  },
  {
   "cell_type": "code",
   "execution_count": 12,
   "id": "d307cd83-1ebc-484c-abbc-dddbd28c1535",
   "metadata": {},
   "outputs": [],
   "source": [
    "countriesMesures = rawData.loc[:,countryIndics]"
   ]
  },
  {
   "cell_type": "code",
   "execution_count": 13,
   "id": "8d1db2e5-92ef-4439-95c6-161cdbce0810",
   "metadata": {},
   "outputs": [
    {
     "data": {
      "text/plain": [
       "countries         5633\n",
       "countries_tags    5638\n",
       "countries_en      5638\n",
       "dtype: int64"
      ]
     },
     "execution_count": 13,
     "metadata": {},
     "output_type": "execute_result"
    }
   ],
   "source": [
    "countriesMesures.isna().sum(axis=0) # la quantité de valeurs nulles pour chacune des variables"
   ]
  },
  {
   "cell_type": "markdown",
   "id": "cb538aa6-405c-447e-a517-ac5e2572786f",
   "metadata": {},
   "source": [
    "L'une d'entre elles est à peine plus remplie que les autres"
   ]
  },
  {
   "cell_type": "code",
   "execution_count": 14,
   "id": "c0be12a0-7f57-4a9d-941b-cc74994a9b34",
   "metadata": {},
   "outputs": [
    {
     "data": {
      "text/plain": [
       "1097679    Denmark,France,Germany,Morocco,Switzerland\n",
       "30304                                           en:us\n",
       "1713730                                        France\n",
       "1703149                                         en:es\n",
       "769041                                          en:fr\n",
       "1553462                                         en:it\n",
       "973341                                         France\n",
       "834451                                      en:France\n",
       "1257057                                         en:it\n",
       "497040                                         France\n",
       "Name: countries, dtype: object"
      ]
     },
     "execution_count": 14,
     "metadata": {},
     "output_type": "execute_result"
    }
   ],
   "source": [
    "rawData['countries'].sample(10)"
   ]
  },
  {
   "cell_type": "markdown",
   "id": "3a2b0f5a-0015-46ca-929c-42af5723a9a7",
   "metadata": {},
   "source": [
    "La notion de France peut se retrouver sous différents formats et parfois à coté d'autres pays, nous utilisons un pattern regex pour trouver des occurences comme France, france, en:france, en:FR etc."
   ]
  },
  {
   "cell_type": "code",
   "execution_count": 15,
   "id": "f4a9bec7-97fe-41b5-bc7c-7c813e90ee87",
   "metadata": {},
   "outputs": [],
   "source": [
    "# la recherche regex de 'france|en:fr' renvoie une série de booléens avec True pour chaque ligne contenant les mots désirés\n",
    "maskFrance = rawData['countries'].str.contains('france|en:fr',case=False)\n",
    "# On utilise l'index des valeurs égales à True dans maskFrance pour faire un subset sur les lignes de données et ainsi récupérer seulement les articles vendus en France\n",
    "data = rawData.iloc[maskFrance[maskFrance == True].index,:] "
   ]
  },
  {
   "cell_type": "code",
   "execution_count": 16,
   "id": "b34ef519-ca8b-4423-8be7-2f13214e530b",
   "metadata": {},
   "outputs": [
    {
     "name": "stdout",
     "output_type": "stream",
     "text": [
      "Il s'agit d'un tableau de 788613 lignes et 186 colonnes.\n"
     ]
    }
   ],
   "source": [
    "print_shape(data)"
   ]
  },
  {
   "cell_type": "code",
   "execution_count": 17,
   "id": "4db9fe75-08a3-4d03-beef-e1497764e544",
   "metadata": {},
   "outputs": [
    {
     "name": "stdout",
     "output_type": "stream",
     "text": [
      "Nous avons réduit de 57.74 % le nombre de lignes en ne gardant que les produits distribués en France.\n"
     ]
    }
   ],
   "source": [
    "print('Nous avons réduit de',\n",
    "      np.round((1-(data.shape[0]/rawData.shape[0]))*100,2),\n",
    "      \"% le nombre de lignes en ne gardant que les produits distribués en France.\")"
   ]
  },
  {
   "cell_type": "markdown",
   "id": "572c9a94-5bc1-49ae-8a8a-a432e0e9a8d7",
   "metadata": {},
   "source": [
    "### Extraction des colonnes pertinentes\n",
    "On utilise notre liste de colonnes construite supra  pour ne garder que les colonnes relatives au nutriscore."
   ]
  },
  {
   "cell_type": "code",
   "execution_count": 18,
   "id": "ad2c6f8e-4d0d-49eb-b677-c19e370f93b7",
   "metadata": {},
   "outputs": [],
   "source": [
    "data = data.loc[:,listeTri]"
   ]
  },
  {
   "cell_type": "code",
   "execution_count": 19,
   "id": "6ee1b9d9-f3a7-46c7-91f7-c27ce8085b3f",
   "metadata": {},
   "outputs": [
    {
     "name": "stdout",
     "output_type": "stream",
     "text": [
      "Il reste 30 colonnes par rapport aux 186 initiales.\n"
     ]
    }
   ],
   "source": [
    "print('Il reste',data.shape[1],'colonnes par rapport aux',rawData.shape[1], 'initiales.')"
   ]
  },
  {
   "cell_type": "markdown",
   "id": "641c6f47-7b26-4485-a372-e0880a41088e",
   "metadata": {},
   "source": [
    "### Suppression des colonnes trop vides\n",
    "Les colonnes avec trop peu de données ne pourront pas être analysées"
   ]
  },
  {
   "cell_type": "code",
   "execution_count": 20,
   "id": "95c8f864-b261-4de8-bb48-53948e5766ad",
   "metadata": {},
   "outputs": [],
   "source": [
    "# cette fonction renvoie un classement des colonnes les plus vides \n",
    "def taux_na_colonnes(dataframe):\n",
    "    colsum = dataframe.isna().sum()\n",
    "    colonnes = colsum.index\n",
    "    valeurs = colsum.values\n",
    "    pourcentage = np.round(((valeurs / dataframe.shape[0])*100),2)\n",
    "    data_item = {'colonnes':colonnes,'taux NAN':valeurs,'pourcentage de NAN':pourcentage}\n",
    "    return pd.DataFrame(data_item).sort_values(by='pourcentage de NAN',ascending=False)"
   ]
  },
  {
   "cell_type": "markdown",
   "id": "0186ee07-77d9-4479-a2cd-fb8da6b2575c",
   "metadata": {},
   "source": [
    "On calcule le pourcentage de vide dans chacune des colonnes et le sauvegardons dans une table"
   ]
  },
  {
   "cell_type": "code",
   "execution_count": 21,
   "id": "1cb38d5e-0d81-4a8b-af4d-5e8fc4570a49",
   "metadata": {},
   "outputs": [
    {
     "data": {
      "text/html": [
       "<div>\n",
       "<style scoped>\n",
       "    .dataframe tbody tr th:only-of-type {\n",
       "        vertical-align: middle;\n",
       "    }\n",
       "\n",
       "    .dataframe tbody tr th {\n",
       "        vertical-align: top;\n",
       "    }\n",
       "\n",
       "    .dataframe thead th {\n",
       "        text-align: right;\n",
       "    }\n",
       "</style>\n",
       "<table border=\"1\" class=\"dataframe\">\n",
       "  <thead>\n",
       "    <tr style=\"text-align: right;\">\n",
       "      <th></th>\n",
       "      <th>colonnes</th>\n",
       "      <th>taux NAN</th>\n",
       "      <th>pourcentage de NAN</th>\n",
       "    </tr>\n",
       "  </thead>\n",
       "  <tbody>\n",
       "    <tr>\n",
       "      <th>29</th>\n",
       "      <td>nutrition-score-uk_100g</td>\n",
       "      <td>788607</td>\n",
       "      <td>100.00</td>\n",
       "    </tr>\n",
       "    <tr>\n",
       "      <th>19</th>\n",
       "      <td>serum-proteins_100g</td>\n",
       "      <td>788577</td>\n",
       "      <td>100.00</td>\n",
       "    </tr>\n",
       "    <tr>\n",
       "      <th>13</th>\n",
       "      <td>omega-9-fat_100g</td>\n",
       "      <td>788565</td>\n",
       "      <td>99.99</td>\n",
       "    </tr>\n",
       "    <tr>\n",
       "      <th>6</th>\n",
       "      <td>energy-from-fat_100g</td>\n",
       "      <td>788490</td>\n",
       "      <td>99.98</td>\n",
       "    </tr>\n",
       "    <tr>\n",
       "      <th>17</th>\n",
       "      <td>-insoluble-fiber_100g</td>\n",
       "      <td>788441</td>\n",
       "      <td>99.98</td>\n",
       "    </tr>\n",
       "    <tr>\n",
       "      <th>16</th>\n",
       "      <td>-soluble-fiber_100g</td>\n",
       "      <td>788435</td>\n",
       "      <td>99.98</td>\n",
       "    </tr>\n",
       "    <tr>\n",
       "      <th>5</th>\n",
       "      <td>energy-from-fat_100g</td>\n",
       "      <td>788490</td>\n",
       "      <td>99.98</td>\n",
       "    </tr>\n",
       "    <tr>\n",
       "      <th>22</th>\n",
       "      <td>fruits-vegetables-nuts-dried_100g</td>\n",
       "      <td>788292</td>\n",
       "      <td>99.96</td>\n",
       "    </tr>\n",
       "    <tr>\n",
       "      <th>12</th>\n",
       "      <td>omega-6-fat_100g</td>\n",
       "      <td>788331</td>\n",
       "      <td>99.96</td>\n",
       "    </tr>\n",
       "    <tr>\n",
       "      <th>20</th>\n",
       "      <td>collagen-meat-protein-ratio_100g</td>\n",
       "      <td>788315</td>\n",
       "      <td>99.96</td>\n",
       "    </tr>\n",
       "    <tr>\n",
       "      <th>11</th>\n",
       "      <td>omega-3-fat_100g</td>\n",
       "      <td>787299</td>\n",
       "      <td>99.83</td>\n",
       "    </tr>\n",
       "    <tr>\n",
       "      <th>9</th>\n",
       "      <td>monounsaturated-fat_100g</td>\n",
       "      <td>785768</td>\n",
       "      <td>99.64</td>\n",
       "    </tr>\n",
       "    <tr>\n",
       "      <th>10</th>\n",
       "      <td>polyunsaturated-fat_100g</td>\n",
       "      <td>785747</td>\n",
       "      <td>99.64</td>\n",
       "    </tr>\n",
       "    <tr>\n",
       "      <th>14</th>\n",
       "      <td>trans-fat_100g</td>\n",
       "      <td>785198</td>\n",
       "      <td>99.57</td>\n",
       "    </tr>\n",
       "    <tr>\n",
       "      <th>21</th>\n",
       "      <td>fruits-vegetables-nuts_100g</td>\n",
       "      <td>782585</td>\n",
       "      <td>99.24</td>\n",
       "    </tr>\n",
       "  </tbody>\n",
       "</table>\n",
       "</div>"
      ],
      "text/plain": [
       "                             colonnes  taux NAN  pourcentage de NAN\n",
       "29            nutrition-score-uk_100g    788607              100.00\n",
       "19                serum-proteins_100g    788577              100.00\n",
       "13                   omega-9-fat_100g    788565               99.99\n",
       "6                energy-from-fat_100g    788490               99.98\n",
       "17              -insoluble-fiber_100g    788441               99.98\n",
       "16                -soluble-fiber_100g    788435               99.98\n",
       "5                energy-from-fat_100g    788490               99.98\n",
       "22  fruits-vegetables-nuts-dried_100g    788292               99.96\n",
       "12                   omega-6-fat_100g    788331               99.96\n",
       "20   collagen-meat-protein-ratio_100g    788315               99.96\n",
       "11                   omega-3-fat_100g    787299               99.83\n",
       "9            monounsaturated-fat_100g    785768               99.64\n",
       "10           polyunsaturated-fat_100g    785747               99.64\n",
       "14                     trans-fat_100g    785198               99.57\n",
       "21        fruits-vegetables-nuts_100g    782585               99.24"
      ]
     },
     "execution_count": 21,
     "metadata": {},
     "output_type": "execute_result"
    }
   ],
   "source": [
    "dataNaN = taux_na_colonnes(data)\n",
    "dataNaN.head(15)"
   ]
  },
  {
   "cell_type": "code",
   "execution_count": 22,
   "id": "8dfea76b-ccb1-41d0-a79c-f8d5d743d019",
   "metadata": {},
   "outputs": [],
   "source": [
    "dataNaN = dataNaN[dataNaN['pourcentage de NAN']<99.5] # On rejette tous les variables plus vides que 99.5%"
   ]
  },
  {
   "cell_type": "markdown",
   "id": "5afcfa4a-e807-4c19-bf14-9e9b6c4be7b4",
   "metadata": {},
   "source": [
    "Nous acceptons de garder des variables avec un très faible taux de remplissage car :"
   ]
  },
  {
   "cell_type": "code",
   "execution_count": 23,
   "id": "42fba598-19a1-431a-8834-be0cf007f5af",
   "metadata": {},
   "outputs": [
    {
     "name": "stdout",
     "output_type": "stream",
     "text": [
      "Seulement 0.5% de l'ensemble du jeu de données (soit 788613 lignes) est égal à environ 3943 lignes.\n"
     ]
    }
   ],
   "source": [
    "print(\"Seulement 0.5% de l'ensemble du jeu de données (soit\",\n",
    "      data.shape[0],\n",
    "      'lignes) est égal à environ',\n",
    "      int(data.shape[0]*0.005),\n",
    "      'lignes.')"
   ]
  },
  {
   "cell_type": "markdown",
   "id": "418b1803-17c9-45c1-917d-088592e1a735",
   "metadata": {},
   "source": [
    "Ce qui représente une quantité d'informations non négligeable."
   ]
  },
  {
   "cell_type": "code",
   "execution_count": 24,
   "id": "8933d762-4ab6-4be0-bd7e-ae815904b994",
   "metadata": {},
   "outputs": [],
   "source": [
    "# la colonne 'colonnes' de dataNaN contient les noms des colonnes avec au moins 0.05% de remplissage.\n",
    "data = data.loc[:,dataNaN['colonnes']]"
   ]
  },
  {
   "cell_type": "code",
   "execution_count": 25,
   "id": "402bbeb3-5b5e-4e40-bf69-afe9c1dd000a",
   "metadata": {},
   "outputs": [
    {
     "name": "stdout",
     "output_type": "stream",
     "text": [
      "Il s'agit d'un tableau de 788613 lignes et 16 colonnes.\n"
     ]
    }
   ],
   "source": [
    "print_shape(data)"
   ]
  },
  {
   "cell_type": "markdown",
   "id": "67171805-1db4-4013-bcb7-9acafcd36f40",
   "metadata": {},
   "source": [
    "### Visualisation de la quantité de données disponibles dans chaque colonne"
   ]
  },
  {
   "cell_type": "code",
   "execution_count": 26,
   "id": "e9c32bde-6525-4406-b16d-ab7e2c464173",
   "metadata": {},
   "outputs": [],
   "source": [
    "def plot_na_columns(data):    \n",
    "    quantiteData = data.describe(include='all').loc['count',:]\n",
    "    quantiteData = quantiteData.astype(float).sort_values(ascending=False)\n",
    "    plt.rcParams.update({'font.size': 14})\n",
    "    fig = plt.figure(figsize=(15,10))\n",
    "    ax = fig.add_subplot(1,1,1)\n",
    "    sns.barplot(ax=ax,\n",
    "                x= quantiteData.values,\n",
    "                y= quantiteData.index)\n",
    "    plt.title('Quantité de lignes remplies par colonne',fontsize=20)\n",
    "    ax.set(xlabel='Nombre de lignes non nulles',ylabel='Colonnes')"
   ]
  },
  {
   "cell_type": "code",
   "execution_count": 27,
   "id": "3c4dc84b-0752-4a1d-876a-d54c992bc81b",
   "metadata": {},
   "outputs": [
    {
     "data": {
      "image/png": "[encoded data removed]",
      "text/plain": [
       "<Figure size 1080x720 with 1 Axes>"
      ]
     },
     "metadata": {
      "needs_background": "light"
     },
     "output_type": "display_data"
    }
   ],
   "source": [
    "plot_na_columns(data)"
   ]
  },
  {
   "cell_type": "markdown",
   "id": "5423bffa-051d-49d0-bc31-2967d2875583",
   "metadata": {},
   "source": [
    "Notre analyse va porter sur le rôle des différentes mesures nutritionnelles dans le calcul du nutriscore et les liens qui existent entre ces éléments.\n",
    "* Etant donné la centralité du nutriscore dans notre analyse nous ne pouvons pas garder des lignes ne le contenant pas\n",
    "* il en est de même pour la teneur en fruits et légumes qui est l'un des critères majeurs de calcul du score"
   ]
  },
  {
   "cell_type": "code",
   "execution_count": 28,
   "id": "5dca2ae8-86a2-4d94-a3b6-7e2eb1e7f616",
   "metadata": {},
   "outputs": [],
   "source": [
    "data = data.dropna(subset=['nutriscore_score','fruits-vegetables-nuts_100g'])"
   ]
  },
  {
   "cell_type": "code",
   "execution_count": 29,
   "id": "e402a112-5fd1-45fb-8a67-ba8691bf02ff",
   "metadata": {},
   "outputs": [
    {
     "data": {
      "image/png": "[encoded data removed]",
      "text/plain": [
       "<Figure size 1080x720 with 1 Axes>"
      ]
     },
     "metadata": {
      "needs_background": "light"
     },
     "output_type": "display_data"
    }
   ],
   "source": [
    "plot_na_columns(data)"
   ]
  },
  {
   "cell_type": "markdown",
   "id": "145bfb1b-d8d3-44d5-a4db-7036deea711a",
   "metadata": {},
   "source": [
    "Nous allons aussi nous débarasser d'autres variables :\n",
    "* l'éco-score car notre analyse est seulement portée sur l'aspect nutritif des aliments\n",
    "* l'énergie exprimée en kilocalories et kilojoules car l'on dispose déjà d'une mesure de l'énergie en beaucoup mieux renseignée  \n",
    "* l'**estimation** de la teneur en fruits / légumes / fruits à coque car nous avons déjà la valeur réelle\n",
    "* le nutriscore-fr pour 100g car cette information est redondante"
   ]
  },
  {
   "cell_type": "code",
   "execution_count": 30,
   "id": "08cc8ae9-1af4-4f29-9515-660f6d477ba7",
   "metadata": {},
   "outputs": [],
   "source": [
    "data = data.drop(labels=['ecoscore_grade_fr',\n",
    "                         'ecoscore_score_fr',\n",
    "                         'energy-kcal_100g',\n",
    "                         'energy-kj_100g',\n",
    "                         'fruits-vegetables-nuts-estimate_100g',\n",
    "                         'nutrition-score-fr_100g'],\n",
    "                          axis = 1)"
   ]
  },
  {
   "cell_type": "code",
   "execution_count": 31,
   "id": "b5c10f3f-ec54-4734-8337-fd557c426b05",
   "metadata": {},
   "outputs": [
    {
     "data": {
      "image/png": "[encoded data removed]",
      "text/plain": [
       "<Figure size 1080x720 with 1 Axes>"
      ]
     },
     "metadata": {
      "needs_background": "light"
     },
     "output_type": "display_data"
    }
   ],
   "source": [
    "plot_na_columns(data)"
   ]
  },
  {
   "cell_type": "markdown",
   "id": "3918c379-a82c-4206-899e-631577fedd50",
   "metadata": {},
   "source": [
    "On peut observer qu'une portion des données concernant les fibres est manquante\n",
    "* Nous allons essayer d'imputer les données manquantes"
   ]
  },
  {
   "cell_type": "markdown",
   "id": "27fe5ca8-2d10-4745-a1ce-32ba5cb18444",
   "metadata": {},
   "source": [
    "Cependant avant celà nous allons nous traiter les éventuelles données aberrantes présentes dans notre tableau"
   ]
  },
  {
   "cell_type": "markdown",
   "id": "bd644454-042e-42c3-9f8c-609b4aede09d",
   "metadata": {},
   "source": [
    "## Traitement des valeurs aberrantes et dupliquées\n",
    "Ce que l'on cherche pour trouver ces valeurs aberrantes :"
   ]
  },
  {
   "cell_type": "markdown",
   "id": "cef114b1-df53-4119-b7eb-1982b6e6382b",
   "metadata": {},
   "source": [
    "- mesures : ce qui est supérieur à 100 ou négatif (la valeur doit être comprise entre 0 et 100 pour mesurer 100g d'un élément) sauf pour l'energie qui est exprimée en kiloJoules\n",
    "- nutriscore : tout ce qui n'est pas compris entre -15 et 40 (les deux valeurs extrêmes que peut prendre le score)\n",
    "- nutrigrade : autre chose que les lettres du nutriscore"
   ]
  },
  {
   "cell_type": "markdown",
   "id": "fcda5d4d-dcb4-42e4-a66b-f2ce200e0b79",
   "metadata": {},
   "source": [
    "Afin de faciliter les traitements nous déplaçons le nutriscore/grade et fibres aux dernières colonnes du tableau"
   ]
  },
  {
   "cell_type": "code",
   "execution_count": 32,
   "id": "e89618f9-12c7-4001-aaa5-f0f00261417d",
   "metadata": {},
   "outputs": [],
   "source": [
    "nutriScore = data.pop('nutriscore_score')\n",
    "nutriGrade = data.pop('nutriscore_grade')\n",
    "fibers = data.pop('fiber_100g')\n",
    "data.insert(len(data.columns),'fiber_100g',fibers)\n",
    "data.insert(len(data.columns),'nutriscore_score',nutriScore)\n",
    "data.insert(len(data.columns),'nutriscore_grade',nutriGrade)"
   ]
  },
  {
   "cell_type": "markdown",
   "id": "d91b9654-5d26-40f1-b6e9-e6e2cf05621d",
   "metadata": {},
   "source": [
    "### Suppression des lignes dupliquées"
   ]
  },
  {
   "cell_type": "code",
   "execution_count": 33,
   "id": "ee9d1107-ccc6-49b7-be42-78cef2a0ee55",
   "metadata": {},
   "outputs": [
    {
     "data": {
      "text/plain": [
       "(5232, 10)"
      ]
     },
     "execution_count": 33,
     "metadata": {},
     "output_type": "execute_result"
    }
   ],
   "source": [
    "data.shape"
   ]
  },
  {
   "cell_type": "code",
   "execution_count": 34,
   "id": "cee178e8-fbf5-4083-bfe2-b571ce1f52e0",
   "metadata": {},
   "outputs": [],
   "source": [
    "data = data.drop_duplicates()"
   ]
  },
  {
   "cell_type": "code",
   "execution_count": 35,
   "id": "56e969a6-53aa-4803-8481-fb768d0d72b4",
   "metadata": {},
   "outputs": [
    {
     "data": {
      "text/plain": [
       "(4769, 10)"
      ]
     },
     "execution_count": 35,
     "metadata": {},
     "output_type": "execute_result"
    }
   ],
   "source": [
    "data.shape"
   ]
  },
  {
   "cell_type": "markdown",
   "id": "2a323ef5-ebaa-4455-b184-a4d642e2dec2",
   "metadata": {},
   "source": [
    "Nous avons supprimé un peu moins de 500 lignes."
   ]
  },
  {
   "cell_type": "markdown",
   "id": "3c77b10b-8874-428a-bcba-7ad7c8d5d580",
   "metadata": {},
   "source": [
    "### Aberrations dans les mesures sur 100g"
   ]
  },
  {
   "cell_type": "markdown",
   "id": "59b07c16-74f7-40cd-b7aa-31e0e43e1082",
   "metadata": {},
   "source": [
    "Construction d'une table contenant les mesures pour 100g (sauf energie)"
   ]
  },
  {
   "cell_type": "code",
   "execution_count": 36,
   "id": "9f0c8c9c-ecbc-4c23-aa71-cc3afc7c676d",
   "metadata": {},
   "outputs": [],
   "source": [
    "mesuresGrammes = data.loc[:,'fruits-vegetables-nuts_100g':'saturated-fat_100g']"
   ]
  },
  {
   "cell_type": "markdown",
   "id": "e1ee66d3-8f02-40b2-be78-317f9dada3d8",
   "metadata": {},
   "source": [
    "Cette fonction nous permet de renvoyer l'index des valeurs se trouvant en dehors d'un intervalle donné."
   ]
  },
  {
   "cell_type": "code",
   "execution_count": 37,
   "id": "4fcf5ceb-af2b-42b9-9aab-e80482c21ceb",
   "metadata": {},
   "outputs": [],
   "source": [
    "def detect_aber(serie,upper,lower):\n",
    "    bound1 = serie[serie > upper].index\n",
    "    bound2 = serie[serie < lower].index\n",
    "    return (bound1.append(bound2)).unique()"
   ]
  },
  {
   "cell_type": "markdown",
   "id": "d0f40aaa-e533-416e-9957-4554d4d4e710",
   "metadata": {},
   "source": [
    "On initialise une liste qui contiendra les indexs des lignes contenant des valeurs aberrantes"
   ]
  },
  {
   "cell_type": "code",
   "execution_count": 38,
   "id": "4781dac8-ca15-46f0-bdab-9eb38762919f",
   "metadata": {},
   "outputs": [],
   "source": [
    "aberrations = []"
   ]
  },
  {
   "cell_type": "code",
   "execution_count": 39,
   "id": "30db4515-5b7f-46ed-b8f2-82a8b020d960",
   "metadata": {},
   "outputs": [],
   "source": [
    "for i in range(0,len(mesuresGrammes.columns)):\n",
    "     aberrations.append(detect_aber(mesuresGrammes.iloc[:,i],100,0))"
   ]
  },
  {
   "cell_type": "code",
   "execution_count": 40,
   "id": "ae5b5dbe-8836-4597-9afd-42773c39e9d2",
   "metadata": {},
   "outputs": [
    {
     "data": {
      "text/plain": [
       "[Int64Index([], dtype='int64'),\n",
       " Int64Index([], dtype='int64'),\n",
       " Int64Index([], dtype='int64'),\n",
       " Int64Index([], dtype='int64'),\n",
       " Int64Index([], dtype='int64'),\n",
       " Int64Index([], dtype='int64')]"
      ]
     },
     "execution_count": 40,
     "metadata": {},
     "output_type": "execute_result"
    }
   ],
   "source": [
    "aberrations"
   ]
  },
  {
   "cell_type": "markdown",
   "id": "1f4ee474-f8ad-4fe8-9d58-3abd8321b3cd",
   "metadata": {},
   "source": [
    "La liste est vide, il n'y a pas de valeurs en dehors de l'intervalle 0 - 100 grammes"
   ]
  },
  {
   "cell_type": "markdown",
   "id": "3fa3fae4-0925-4524-bdd2-cad4079e80d5",
   "metadata": {},
   "source": [
    "### Aberrations dans les mesures du Nutriscore"
   ]
  },
  {
   "cell_type": "code",
   "execution_count": 41,
   "id": "8d26f590-bd09-4037-abc7-f9783d1c0df1",
   "metadata": {},
   "outputs": [
    {
     "data": {
      "text/plain": [
       "Int64Index([], dtype='int64')"
      ]
     },
     "execution_count": 41,
     "metadata": {},
     "output_type": "execute_result"
    }
   ],
   "source": [
    "detect_aber(data['nutriscore_score'],40,-15) # 40 représente la pire note nutriscore et -15 la meilleure possible"
   ]
  },
  {
   "cell_type": "markdown",
   "id": "597e1e6b-5bdd-4860-84c3-b0b9f859dca0",
   "metadata": {},
   "source": [
    "Ici aussi la liste est vide ce qui nous montre que le Nutriscore ne contient pas de valeurs aberrantes"
   ]
  },
  {
   "cell_type": "markdown",
   "id": "b1631b23-1bcc-4b13-bd5e-fcb3a168feda",
   "metadata": {},
   "source": [
    "### Aberrations dans la quotation Nutrigrade\n",
    "Toute valeur autre que 'a','b','c','d','e' n'est pas censée exister dans cette colonne"
   ]
  },
  {
   "cell_type": "code",
   "execution_count": 42,
   "id": "d4c6abdb-5b88-46ba-9152-0b2b5c532252",
   "metadata": {},
   "outputs": [
    {
     "data": {
      "image/png": "[encoded data removed]",
      "text/plain": [
       "<Figure size 1080x720 with 1 Axes>"
      ]
     },
     "metadata": {},
     "output_type": "display_data"
    }
   ],
   "source": [
    "nutrigrade = data['nutriscore_grade'].value_counts().sort_index()\n",
    "plt.style.use('seaborn-darkgrid')\n",
    "plt.figure(figsize=(15,10))\n",
    "plt.rcParams.update({'font.size': 22})\n",
    "plt.title('Distribution des catégories nutriscore')\n",
    "plt.xlabel('Catégories nutriscore')\n",
    "plt.ylabel('Quantité de produits')\n",
    "nutrigrade.plot.pie(x=nutrigrade.index,y=nutrigrade.values);"
   ]
  },
  {
   "cell_type": "markdown",
   "id": "9f8e0afe-5072-47d5-8aca-467a09a60186",
   "metadata": {},
   "source": [
    "Si une valeur aberrante était présente elle serait apparue comme une catégorie de plus, or ce n'est pas le cas"
   ]
  },
  {
   "cell_type": "markdown",
   "id": "fda09f33-70cd-41a4-a2a4-ec8c8bd47b07",
   "metadata": {},
   "source": [
    "## Imputation des valeurs manquantes par K Nearest Neighbours"
   ]
  },
  {
   "cell_type": "code",
   "execution_count": 43,
   "id": "4822ec48-9649-407a-a0cc-ab025e136ce6",
   "metadata": {},
   "outputs": [
    {
     "data": {
      "text/html": [
       "<div>\n",
       "<style scoped>\n",
       "    .dataframe tbody tr th:only-of-type {\n",
       "        vertical-align: middle;\n",
       "    }\n",
       "\n",
       "    .dataframe tbody tr th {\n",
       "        vertical-align: top;\n",
       "    }\n",
       "\n",
       "    .dataframe thead th {\n",
       "        text-align: right;\n",
       "    }\n",
       "</style>\n",
       "<table border=\"1\" class=\"dataframe\">\n",
       "  <thead>\n",
       "    <tr style=\"text-align: right;\">\n",
       "      <th></th>\n",
       "      <th>colonnes</th>\n",
       "      <th>taux NAN</th>\n",
       "      <th>pourcentage de NAN</th>\n",
       "    </tr>\n",
       "  </thead>\n",
       "  <tbody>\n",
       "    <tr>\n",
       "      <th>7</th>\n",
       "      <td>fiber_100g</td>\n",
       "      <td>1123</td>\n",
       "      <td>23.55</td>\n",
       "    </tr>\n",
       "    <tr>\n",
       "      <th>0</th>\n",
       "      <td>fruits-vegetables-nuts_100g</td>\n",
       "      <td>0</td>\n",
       "      <td>0.00</td>\n",
       "    </tr>\n",
       "    <tr>\n",
       "      <th>1</th>\n",
       "      <td>salt_100g</td>\n",
       "      <td>0</td>\n",
       "      <td>0.00</td>\n",
       "    </tr>\n",
       "    <tr>\n",
       "      <th>2</th>\n",
       "      <td>fat_100g</td>\n",
       "      <td>0</td>\n",
       "      <td>0.00</td>\n",
       "    </tr>\n",
       "    <tr>\n",
       "      <th>3</th>\n",
       "      <td>proteins_100g</td>\n",
       "      <td>0</td>\n",
       "      <td>0.00</td>\n",
       "    </tr>\n",
       "  </tbody>\n",
       "</table>\n",
       "</div>"
      ],
      "text/plain": [
       "                      colonnes  taux NAN  pourcentage de NAN\n",
       "7                   fiber_100g      1123               23.55\n",
       "0  fruits-vegetables-nuts_100g         0                0.00\n",
       "1                    salt_100g         0                0.00\n",
       "2                     fat_100g         0                0.00\n",
       "3                proteins_100g         0                0.00"
      ]
     },
     "execution_count": 43,
     "metadata": {},
     "output_type": "execute_result"
    }
   ],
   "source": [
    "taux_na_colonnes(data).head()"
   ]
  },
  {
   "cell_type": "markdown",
   "id": "1a88cedb-1a65-45cf-b6a0-bc50e43a75dc",
   "metadata": {},
   "source": [
    "On peut observer que 23.55% des données relatives aux fibres sont manquantes."
   ]
  },
  {
   "cell_type": "markdown",
   "id": "822bf513-18a9-4d20-979d-ab0c49dc9d70",
   "metadata": {},
   "source": [
    "Cependant ce critère est essentiel au calcul du nutriscore\n",
    "- Nous allons tenter d'imputer ces valeurs manquantes à l'aide d'un algorithme KNN"
   ]
  },
  {
   "cell_type": "markdown",
   "id": "2293b37c-921d-4648-9b85-3d51075f4225",
   "metadata": {},
   "source": [
    "### Choix des K-voisins\n",
    "Avant d'utiliser un modèle KNN pour imputer nos données manquantes nous devons estimer la meilleure valeur de l'hyperparamètre K."
   ]
  },
  {
   "cell_type": "markdown",
   "id": "613a9d4d-b28a-46c7-9b6a-4bdb911e26f1",
   "metadata": {},
   "source": [
    "Pour ce faire nous allons mesurer l'erreur de prédiction moyenne d'un modèle KNN sur la teneur en fibre par validation croisée."
   ]
  },
  {
   "cell_type": "markdown",
   "id": "5d8e4cdd-b95e-4f79-b388-91428d5efe25",
   "metadata": {},
   "source": [
    "Nous commençons par retirer les valeurs où les données fibres sont manquantes."
   ]
  },
  {
   "cell_type": "code",
   "execution_count": 44,
   "id": "03178185-7d68-4b74-bb79-68395b540e0d",
   "metadata": {},
   "outputs": [],
   "source": [
    "knnData = data.dropna()"
   ]
  },
  {
   "cell_type": "code",
   "execution_count": 45,
   "id": "6df773c9-2c6e-4167-98e2-761d7ccde9e2",
   "metadata": {},
   "outputs": [
    {
     "data": {
      "text/html": [
       "<div>\n",
       "<style scoped>\n",
       "    .dataframe tbody tr th:only-of-type {\n",
       "        vertical-align: middle;\n",
       "    }\n",
       "\n",
       "    .dataframe tbody tr th {\n",
       "        vertical-align: top;\n",
       "    }\n",
       "\n",
       "    .dataframe thead th {\n",
       "        text-align: right;\n",
       "    }\n",
       "</style>\n",
       "<table border=\"1\" class=\"dataframe\">\n",
       "  <thead>\n",
       "    <tr style=\"text-align: right;\">\n",
       "      <th></th>\n",
       "      <th>fruits-vegetables-nuts_100g</th>\n",
       "      <th>salt_100g</th>\n",
       "      <th>fat_100g</th>\n",
       "      <th>proteins_100g</th>\n",
       "      <th>sugars_100g</th>\n",
       "      <th>saturated-fat_100g</th>\n",
       "      <th>energy_100g</th>\n",
       "      <th>fiber_100g</th>\n",
       "      <th>nutriscore_score</th>\n",
       "      <th>nutriscore_grade</th>\n",
       "    </tr>\n",
       "  </thead>\n",
       "  <tbody>\n",
       "    <tr>\n",
       "      <th>754181</th>\n",
       "      <td>12.00</td>\n",
       "      <td>0.01</td>\n",
       "      <td>0.50</td>\n",
       "      <td>0.5</td>\n",
       "      <td>9.4</td>\n",
       "      <td>0.1</td>\n",
       "      <td>160.0</td>\n",
       "      <td>0.5</td>\n",
       "      <td>13.0</td>\n",
       "      <td>e</td>\n",
       "    </tr>\n",
       "    <tr>\n",
       "      <th>921213</th>\n",
       "      <td>35.00</td>\n",
       "      <td>0.49</td>\n",
       "      <td>14.00</td>\n",
       "      <td>4.2</td>\n",
       "      <td>29.0</td>\n",
       "      <td>1.5</td>\n",
       "      <td>1577.0</td>\n",
       "      <td>2.5</td>\n",
       "      <td>11.0</td>\n",
       "      <td>d</td>\n",
       "    </tr>\n",
       "    <tr>\n",
       "      <th>683116</th>\n",
       "      <td>50.00</td>\n",
       "      <td>0.00</td>\n",
       "      <td>0.00</td>\n",
       "      <td>0.0</td>\n",
       "      <td>5.1</td>\n",
       "      <td>0.0</td>\n",
       "      <td>96.0</td>\n",
       "      <td>0.0</td>\n",
       "      <td>6.0</td>\n",
       "      <td>d</td>\n",
       "    </tr>\n",
       "    <tr>\n",
       "      <th>1600851</th>\n",
       "      <td>83.00</td>\n",
       "      <td>1.00</td>\n",
       "      <td>4.00</td>\n",
       "      <td>1.4</td>\n",
       "      <td>5.0</td>\n",
       "      <td>0.3</td>\n",
       "      <td>285.0</td>\n",
       "      <td>1.5</td>\n",
       "      <td>-1.0</td>\n",
       "      <td>a</td>\n",
       "    </tr>\n",
       "    <tr>\n",
       "      <th>928135</th>\n",
       "      <td>100.00</td>\n",
       "      <td>0.10</td>\n",
       "      <td>0.50</td>\n",
       "      <td>2.5</td>\n",
       "      <td>0.8</td>\n",
       "      <td>0.1</td>\n",
       "      <td>93.0</td>\n",
       "      <td>2.1</td>\n",
       "      <td>-8.0</td>\n",
       "      <td>a</td>\n",
       "    </tr>\n",
       "    <tr>\n",
       "      <th>762828</th>\n",
       "      <td>0.00</td>\n",
       "      <td>0.01</td>\n",
       "      <td>1.58</td>\n",
       "      <td>11.0</td>\n",
       "      <td>2.9</td>\n",
       "      <td>0.3</td>\n",
       "      <td>1515.0</td>\n",
       "      <td>5.8</td>\n",
       "      <td>-6.0</td>\n",
       "      <td>a</td>\n",
       "    </tr>\n",
       "    <tr>\n",
       "      <th>720607</th>\n",
       "      <td>0.00</td>\n",
       "      <td>1.25</td>\n",
       "      <td>4.60</td>\n",
       "      <td>8.5</td>\n",
       "      <td>5.0</td>\n",
       "      <td>0.5</td>\n",
       "      <td>1043.0</td>\n",
       "      <td>7.7</td>\n",
       "      <td>-1.0</td>\n",
       "      <td>a</td>\n",
       "    </tr>\n",
       "    <tr>\n",
       "      <th>932366</th>\n",
       "      <td>37.02</td>\n",
       "      <td>1.00</td>\n",
       "      <td>2.60</td>\n",
       "      <td>7.0</td>\n",
       "      <td>2.4</td>\n",
       "      <td>1.1</td>\n",
       "      <td>521.0</td>\n",
       "      <td>4.2</td>\n",
       "      <td>-2.0</td>\n",
       "      <td>a</td>\n",
       "    </tr>\n",
       "    <tr>\n",
       "      <th>1058404</th>\n",
       "      <td>39.90</td>\n",
       "      <td>0.04</td>\n",
       "      <td>0.50</td>\n",
       "      <td>0.5</td>\n",
       "      <td>5.4</td>\n",
       "      <td>0.1</td>\n",
       "      <td>92.0</td>\n",
       "      <td>0.5</td>\n",
       "      <td>8.0</td>\n",
       "      <td>d</td>\n",
       "    </tr>\n",
       "    <tr>\n",
       "      <th>930520</th>\n",
       "      <td>23.31</td>\n",
       "      <td>0.80</td>\n",
       "      <td>3.80</td>\n",
       "      <td>5.1</td>\n",
       "      <td>2.9</td>\n",
       "      <td>1.7</td>\n",
       "      <td>443.0</td>\n",
       "      <td>1.4</td>\n",
       "      <td>1.0</td>\n",
       "      <td>b</td>\n",
       "    </tr>\n",
       "  </tbody>\n",
       "</table>\n",
       "</div>"
      ],
      "text/plain": [
       "         fruits-vegetables-nuts_100g  salt_100g  fat_100g  proteins_100g  \\\n",
       "754181                         12.00       0.01      0.50            0.5   \n",
       "921213                         35.00       0.49     14.00            4.2   \n",
       "683116                         50.00       0.00      0.00            0.0   \n",
       "1600851                        83.00       1.00      4.00            1.4   \n",
       "928135                        100.00       0.10      0.50            2.5   \n",
       "762828                          0.00       0.01      1.58           11.0   \n",
       "720607                          0.00       1.25      4.60            8.5   \n",
       "932366                         37.02       1.00      2.60            7.0   \n",
       "1058404                        39.90       0.04      0.50            0.5   \n",
       "930520                         23.31       0.80      3.80            5.1   \n",
       "\n",
       "         sugars_100g  saturated-fat_100g  energy_100g  fiber_100g  \\\n",
       "754181           9.4                 0.1        160.0         0.5   \n",
       "921213          29.0                 1.5       1577.0         2.5   \n",
       "683116           5.1                 0.0         96.0         0.0   \n",
       "1600851          5.0                 0.3        285.0         1.5   \n",
       "928135           0.8                 0.1         93.0         2.1   \n",
       "762828           2.9                 0.3       1515.0         5.8   \n",
       "720607           5.0                 0.5       1043.0         7.7   \n",
       "932366           2.4                 1.1        521.0         4.2   \n",
       "1058404          5.4                 0.1         92.0         0.5   \n",
       "930520           2.9                 1.7        443.0         1.4   \n",
       "\n",
       "         nutriscore_score nutriscore_grade  \n",
       "754181               13.0                e  \n",
       "921213               11.0                d  \n",
       "683116                6.0                d  \n",
       "1600851              -1.0                a  \n",
       "928135               -8.0                a  \n",
       "762828               -6.0                a  \n",
       "720607               -1.0                a  \n",
       "932366               -2.0                a  \n",
       "1058404               8.0                d  \n",
       "930520                1.0                b  "
      ]
     },
     "execution_count": 45,
     "metadata": {},
     "output_type": "execute_result"
    }
   ],
   "source": [
    "knnData.sample(10)"
   ]
  },
  {
   "cell_type": "markdown",
   "id": "5f5feded-0464-43ed-9400-e7f07703b1f5",
   "metadata": {},
   "source": [
    "### Standardisation des données et séparation entrainement / test"
   ]
  },
  {
   "cell_type": "code",
   "execution_count": 46,
   "id": "be8d1838-53e1-4bb2-8cb0-869ebfcf5f4b",
   "metadata": {},
   "outputs": [],
   "source": [
    "# Cette fonction va nous permettre de standardiser notre matrice d'entrainement\n",
    "def standardise(X):\n",
    "    X = (X - X.mean(axis=0)) / X.std()\n",
    "    return X"
   ]
  },
  {
   "cell_type": "code",
   "execution_count": 47,
   "id": "95d4a5bd-8dd7-47b4-8562-f85552e939c9",
   "metadata": {},
   "outputs": [],
   "source": [
    "X = knnData.drop(['fiber_100g','nutriscore_grade'],axis=1)\n",
    "y = knnData['fiber_100g']\n",
    "X = standardise(X)\n",
    "x_train, x_test, y_train, y_test = train_test_split(X,\n",
    "                                                    y,\n",
    "                                                    test_size=0.2,\n",
    "                                                    random_state=2)"
   ]
  },
  {
   "cell_type": "markdown",
   "id": "637a9cc8-3e1a-46ba-b04e-3e44197a71db",
   "metadata": {},
   "source": [
    "Définition des paramètres de la validation croisée."
   ]
  },
  {
   "cell_type": "code",
   "execution_count": 48,
   "id": "8210a22a-4292-49a2-a238-528b6ed0905b",
   "metadata": {},
   "outputs": [],
   "source": [
    "cv = KFold(n_splits = 4, # environ 1000 lignes pour faire un entrainement / test\n",
    "           shuffle=True, # on randomise l'ordre des données si jamais celles-ci contenaient un ordre que l'on a pas détecté\n",
    "           random_state=1) # on donne une seed à l'aléatoire pour la reproductibilité des résultats"
   ]
  },
  {
   "cell_type": "markdown",
   "id": "47e70d54-a78b-4d87-8a7b-816906e0731e",
   "metadata": {},
   "source": [
    "Calcul de l'erreur moyenne pour tous les modèles entre 2 et 15 voisins"
   ]
  },
  {
   "cell_type": "code",
   "execution_count": 49,
   "id": "e513ff5d-21ca-414c-972b-567149081ebd",
   "metadata": {},
   "outputs": [],
   "source": [
    "nK = list(range(2,16))\n",
    "error = []\n",
    "for i in nK:\n",
    "    model = KNeighborsRegressor(n_neighbors=i)\n",
    "    scores = cross_val_score(model,X,y, cv=cv, n_jobs=-1)\n",
    "    score = scores.mean()\n",
    "    error.append(score)"
   ]
  },
  {
   "cell_type": "markdown",
   "id": "64676070-020f-4763-b6cc-21a89b6458fe",
   "metadata": {},
   "source": [
    "Visualisation des erreurs"
   ]
  },
  {
   "cell_type": "code",
   "execution_count": 50,
   "id": "c1c644f7-190f-4962-87a1-871f49485d1e",
   "metadata": {},
   "outputs": [
    {
     "data": {
      "image/png": "[encoded data removed]",
      "text/plain": [
       "<Figure size 1080x720 with 1 Axes>"
      ]
     },
     "metadata": {},
     "output_type": "display_data"
    }
   ],
   "source": [
    "plt.figure(figsize=(15,10))\n",
    "plt.title(\"Erreur moyenne en fonction du nombre de voisins\")\n",
    "plt.xlabel(\"Valeur de l'hyperparamètre K\")\n",
    "plt.ylabel(\"Erreur moyenne \\n (Distance euclidienne)\")\n",
    "sns.barplot(x=nK,y=error);"
   ]
  },
  {
   "cell_type": "markdown",
   "id": "f37bfd09-64bb-4c39-ac6c-238d6731a9a7",
   "metadata": {},
   "source": [
    "Un hyperparamètre K=2 semble fournir la meilleure précision prédictive."
   ]
  },
  {
   "cell_type": "code",
   "execution_count": 51,
   "id": "b3900817-68c6-4954-a6b1-e145f7832f80",
   "metadata": {},
   "outputs": [
    {
     "data": {
      "text/plain": [
       "KNeighborsRegressor(n_neighbors=2)"
      ]
     },
     "execution_count": 51,
     "metadata": {},
     "output_type": "execute_result"
    }
   ],
   "source": [
    "model = KNeighborsRegressor(n_neighbors=2)\n",
    "model.fit(X,y)"
   ]
  },
  {
   "cell_type": "code",
   "execution_count": 52,
   "id": "8e20ad73-1fd3-427e-a30f-6692a68849a2",
   "metadata": {},
   "outputs": [],
   "source": [
    "y_pred = model.predict(x_test)"
   ]
  },
  {
   "cell_type": "code",
   "execution_count": 53,
   "id": "84ec6a5e-9937-4547-9905-a6b70cb27304",
   "metadata": {},
   "outputs": [],
   "source": [
    "RMSE = np.sqrt((np.sum((y_test.values - y_pred)**2)) / len(y_pred))"
   ]
  },
  {
   "cell_type": "code",
   "execution_count": 54,
   "id": "444ed6c1-b9a4-49e3-805e-41b4e38fa8ab",
   "metadata": {},
   "outputs": [
    {
     "name": "stdout",
     "output_type": "stream",
     "text": [
      "Avec K = 2, le modèle se trompe d'environ 1.69 grammes dans la prédiction de la teneur en fibres.\n"
     ]
    }
   ],
   "source": [
    "print(\"Avec K = 2, le modèle se trompe d'environ\",np.round(RMSE,2),'grammes dans la prédiction de la teneur en fibres.')"
   ]
  },
  {
   "cell_type": "markdown",
   "id": "b43f1d66-0477-4368-a964-e7755408701b",
   "metadata": {},
   "source": [
    "### Imputation des données\n",
    "Maintenant que nous connaissons le nombre de voisins optimal nous allons imputer les données manquantes."
   ]
  },
  {
   "cell_type": "code",
   "execution_count": 55,
   "id": "d750a69c-5f78-4db5-acc5-169777faa360",
   "metadata": {},
   "outputs": [],
   "source": [
    "imputer = KNNImputer(n_neighbors=2)"
   ]
  },
  {
   "cell_type": "markdown",
   "id": "f771f47e-f624-43ed-a667-e4c176a01b04",
   "metadata": {},
   "source": [
    "Nous calculons l'imputation sur un sous ensemble des données ne contenant pas la note en lettres du nutriscore, celle-ci n'ajoute pas d'information et le modèle KNN ne fonctionne pas avec des lettres."
   ]
  },
  {
   "cell_type": "code",
   "execution_count": 56,
   "id": "af3ee078-29c3-4b49-be1d-56baf5940bbd",
   "metadata": {},
   "outputs": [],
   "source": [
    "dataKnn = data.drop('nutriscore_grade',axis=1)\n",
    "imputedData = imputer.fit_transform(dataKnn)"
   ]
  },
  {
   "cell_type": "markdown",
   "id": "b148a0fc-427a-400e-b019-4ff0ccd6d8a1",
   "metadata": {},
   "source": [
    "Une fois les données imputées calculées celles-ci sortent en format numpy array.\n",
    "- Nous récupérons la colonne des fibres avec imputation et l'insérons dans notre dataframe."
   ]
  },
  {
   "cell_type": "code",
   "execution_count": 57,
   "id": "fdb99376-ab57-42eb-8eec-68b2596ae3fb",
   "metadata": {},
   "outputs": [
    {
     "data": {
      "text/html": [
       "<div>\n",
       "<style scoped>\n",
       "    .dataframe tbody tr th:only-of-type {\n",
       "        vertical-align: middle;\n",
       "    }\n",
       "\n",
       "    .dataframe tbody tr th {\n",
       "        vertical-align: top;\n",
       "    }\n",
       "\n",
       "    .dataframe thead th {\n",
       "        text-align: right;\n",
       "    }\n",
       "</style>\n",
       "<table border=\"1\" class=\"dataframe\">\n",
       "  <thead>\n",
       "    <tr style=\"text-align: right;\">\n",
       "      <th></th>\n",
       "      <th>fruits-vegetables-nuts_100g</th>\n",
       "      <th>salt_100g</th>\n",
       "      <th>fat_100g</th>\n",
       "      <th>proteins_100g</th>\n",
       "      <th>sugars_100g</th>\n",
       "      <th>saturated-fat_100g</th>\n",
       "      <th>energy_100g</th>\n",
       "      <th>fiber_100g</th>\n",
       "      <th>nutriscore_score</th>\n",
       "      <th>nutriscore_grade</th>\n",
       "      <th>KNN-imputed-fiber_100g</th>\n",
       "    </tr>\n",
       "  </thead>\n",
       "  <tbody>\n",
       "    <tr>\n",
       "      <th>720490</th>\n",
       "      <td>0.00</td>\n",
       "      <td>1.250000</td>\n",
       "      <td>4.3</td>\n",
       "      <td>9.0</td>\n",
       "      <td>6.5</td>\n",
       "      <td>0.5</td>\n",
       "      <td>1195.0</td>\n",
       "      <td>3.7</td>\n",
       "      <td>1.0</td>\n",
       "      <td>b</td>\n",
       "      <td>3.70</td>\n",
       "    </tr>\n",
       "    <tr>\n",
       "      <th>929305</th>\n",
       "      <td>2.25</td>\n",
       "      <td>0.000000</td>\n",
       "      <td>0.5</td>\n",
       "      <td>0.5</td>\n",
       "      <td>0.6</td>\n",
       "      <td>0.1</td>\n",
       "      <td>45.0</td>\n",
       "      <td>2.9</td>\n",
       "      <td>-3.0</td>\n",
       "      <td>a</td>\n",
       "      <td>2.90</td>\n",
       "    </tr>\n",
       "    <tr>\n",
       "      <th>929030</th>\n",
       "      <td>100.00</td>\n",
       "      <td>0.000000</td>\n",
       "      <td>0.5</td>\n",
       "      <td>0.5</td>\n",
       "      <td>10.0</td>\n",
       "      <td>0.1</td>\n",
       "      <td>174.0</td>\n",
       "      <td>0.5</td>\n",
       "      <td>3.0</td>\n",
       "      <td>c</td>\n",
       "      <td>0.50</td>\n",
       "    </tr>\n",
       "    <tr>\n",
       "      <th>1418265</th>\n",
       "      <td>100.00</td>\n",
       "      <td>0.100000</td>\n",
       "      <td>0.5</td>\n",
       "      <td>3.5</td>\n",
       "      <td>53.0</td>\n",
       "      <td>0.5</td>\n",
       "      <td>1070.0</td>\n",
       "      <td>7.0</td>\n",
       "      <td>1.0</td>\n",
       "      <td>b</td>\n",
       "      <td>7.00</td>\n",
       "    </tr>\n",
       "    <tr>\n",
       "      <th>748182</th>\n",
       "      <td>36.00</td>\n",
       "      <td>0.024994</td>\n",
       "      <td>0.0</td>\n",
       "      <td>0.2</td>\n",
       "      <td>10.6</td>\n",
       "      <td>0.0</td>\n",
       "      <td>205.0</td>\n",
       "      <td>0.5</td>\n",
       "      <td>15.0</td>\n",
       "      <td>e</td>\n",
       "      <td>0.50</td>\n",
       "    </tr>\n",
       "    <tr>\n",
       "      <th>758477</th>\n",
       "      <td>55.00</td>\n",
       "      <td>0.030000</td>\n",
       "      <td>0.0</td>\n",
       "      <td>0.3</td>\n",
       "      <td>9.3</td>\n",
       "      <td>0.0</td>\n",
       "      <td>159.0</td>\n",
       "      <td>NaN</td>\n",
       "      <td>1.0</td>\n",
       "      <td>b</td>\n",
       "      <td>1.25</td>\n",
       "    </tr>\n",
       "    <tr>\n",
       "      <th>693618</th>\n",
       "      <td>0.00</td>\n",
       "      <td>2.100000</td>\n",
       "      <td>23.0</td>\n",
       "      <td>14.0</td>\n",
       "      <td>2.5</td>\n",
       "      <td>9.2</td>\n",
       "      <td>1151.0</td>\n",
       "      <td>1.2</td>\n",
       "      <td>20.0</td>\n",
       "      <td>e</td>\n",
       "      <td>1.20</td>\n",
       "    </tr>\n",
       "    <tr>\n",
       "      <th>509166</th>\n",
       "      <td>0.00</td>\n",
       "      <td>1.900000</td>\n",
       "      <td>13.0</td>\n",
       "      <td>16.0</td>\n",
       "      <td>0.5</td>\n",
       "      <td>3.8</td>\n",
       "      <td>782.0</td>\n",
       "      <td>1.4</td>\n",
       "      <td>12.0</td>\n",
       "      <td>d</td>\n",
       "      <td>1.40</td>\n",
       "    </tr>\n",
       "    <tr>\n",
       "      <th>1600661</th>\n",
       "      <td>0.00</td>\n",
       "      <td>0.013000</td>\n",
       "      <td>2.0</td>\n",
       "      <td>14.0</td>\n",
       "      <td>3.5</td>\n",
       "      <td>0.4</td>\n",
       "      <td>1521.0</td>\n",
       "      <td>3.0</td>\n",
       "      <td>-4.0</td>\n",
       "      <td>a</td>\n",
       "      <td>3.00</td>\n",
       "    </tr>\n",
       "    <tr>\n",
       "      <th>928499</th>\n",
       "      <td>14.18</td>\n",
       "      <td>1.100000</td>\n",
       "      <td>5.2</td>\n",
       "      <td>10.7</td>\n",
       "      <td>3.5</td>\n",
       "      <td>1.9</td>\n",
       "      <td>932.0</td>\n",
       "      <td>1.9</td>\n",
       "      <td>1.0</td>\n",
       "      <td>b</td>\n",
       "      <td>1.90</td>\n",
       "    </tr>\n",
       "  </tbody>\n",
       "</table>\n",
       "</div>"
      ],
      "text/plain": [
       "         fruits-vegetables-nuts_100g  salt_100g  fat_100g  proteins_100g  \\\n",
       "720490                          0.00   1.250000       4.3            9.0   \n",
       "929305                          2.25   0.000000       0.5            0.5   \n",
       "929030                        100.00   0.000000       0.5            0.5   \n",
       "1418265                       100.00   0.100000       0.5            3.5   \n",
       "748182                         36.00   0.024994       0.0            0.2   \n",
       "758477                         55.00   0.030000       0.0            0.3   \n",
       "693618                          0.00   2.100000      23.0           14.0   \n",
       "509166                          0.00   1.900000      13.0           16.0   \n",
       "1600661                         0.00   0.013000       2.0           14.0   \n",
       "928499                         14.18   1.100000       5.2           10.7   \n",
       "\n",
       "         sugars_100g  saturated-fat_100g  energy_100g  fiber_100g  \\\n",
       "720490           6.5                 0.5       1195.0         3.7   \n",
       "929305           0.6                 0.1         45.0         2.9   \n",
       "929030          10.0                 0.1        174.0         0.5   \n",
       "1418265         53.0                 0.5       1070.0         7.0   \n",
       "748182          10.6                 0.0        205.0         0.5   \n",
       "758477           9.3                 0.0        159.0         NaN   \n",
       "693618           2.5                 9.2       1151.0         1.2   \n",
       "509166           0.5                 3.8        782.0         1.4   \n",
       "1600661          3.5                 0.4       1521.0         3.0   \n",
       "928499           3.5                 1.9        932.0         1.9   \n",
       "\n",
       "         nutriscore_score nutriscore_grade  KNN-imputed-fiber_100g  \n",
       "720490                1.0                b                    3.70  \n",
       "929305               -3.0                a                    2.90  \n",
       "929030                3.0                c                    0.50  \n",
       "1418265               1.0                b                    7.00  \n",
       "748182               15.0                e                    0.50  \n",
       "758477                1.0                b                    1.25  \n",
       "693618               20.0                e                    1.20  \n",
       "509166               12.0                d                    1.40  \n",
       "1600661              -4.0                a                    3.00  \n",
       "928499                1.0                b                    1.90  "
      ]
     },
     "execution_count": 57,
     "metadata": {},
     "output_type": "execute_result"
    }
   ],
   "source": [
    "# On utilise l'index colonne numérique qui correspond aux fibres dans le dataframe pour faire le subset de la colonne sur l'array\n",
    "data['KNN-imputed-fiber_100g'] = imputedData[:,dataKnn.columns.get_loc('fiber_100g')] \n",
    "# les fibres imputées sont désormais présentes dans notre jeu de données\n",
    "data.sample(10)"
   ]
  },
  {
   "cell_type": "markdown",
   "id": "a4c17851-e014-4485-b4e9-55140b5162db",
   "metadata": {},
   "source": [
    "### Imputation des valeurs manquantes par la moyenne\n",
    "Dans un souci de comparaison avec notre variable imputée par KNN nous faisons aussi une imputation plus classique par la moyenne."
   ]
  },
  {
   "cell_type": "code",
   "execution_count": 58,
   "id": "515828fb-1acd-4a7a-9b18-3c902ae44c98",
   "metadata": {},
   "outputs": [],
   "source": [
    "data['mean-imputed-fiber_100g'] = data['fiber_100g'].fillna(data['fiber_100g'].mean())"
   ]
  },
  {
   "cell_type": "markdown",
   "id": "8020cf9d-bfb9-4825-aa3b-c72b5e470242",
   "metadata": {},
   "source": [
    "### Comparaison des méthodes d'imputation des fibres\n",
    "Nous observons les différences entre la variable sans imputation et les différentes méthodes d'imputation pour nous donner une idée de laquelle est la plus fidèle à la distribution originale."
   ]
  },
  {
   "cell_type": "code",
   "execution_count": 59,
   "id": "d8153639-6b1f-4387-9bf9-f6058251ce23",
   "metadata": {},
   "outputs": [
    {
     "data": {
      "image/png": "[encoded data removed]",
      "text/plain": [
       "<Figure size 720x720 with 3 Axes>"
      ]
     },
     "metadata": {},
     "output_type": "display_data"
    }
   ],
   "source": [
    "fig, ax = plt.subplots(3,1,figsize=(10,10))\n",
    "plt.rcParams.update({'font.size': 12})\n",
    "\n",
    "plt.subplots_adjust(hspace=0.5)\n",
    "plt.suptitle('Comparaison des distributions entre : \\n - variable originale \\n - imputation par la moyenne \\n - imputation par KNN',\n",
    "            fontsize=16)\n",
    "sns.histplot(ax = ax[0],x=data['fiber_100g'],bins=100)\n",
    "sns.histplot(ax = ax[1],x=data['mean-imputed-fiber_100g'],bins=100)\n",
    "sns.histplot(ax = ax[2],x=data['KNN-imputed-fiber_100g'],bins=100);"
   ]
  },
  {
   "cell_type": "markdown",
   "id": "008ae802-47a4-4e59-a435-d7ed59309e7d",
   "metadata": {},
   "source": [
    "L'imputation par KNN semble beaucoup plus proche de la variable originale \n",
    "- nous ne garderons que celle-ci pour l'analyse"
   ]
  },
  {
   "cell_type": "code",
   "execution_count": 60,
   "id": "826662a8-cece-4502-8419-db451fcc0f4c",
   "metadata": {},
   "outputs": [],
   "source": [
    "data.drop(['fiber_100g','mean-imputed-fiber_100g'],axis=1,inplace=True)"
   ]
  },
  {
   "cell_type": "code",
   "execution_count": 61,
   "id": "d4991b42-dcab-429b-beae-5ba30c5c1bf1",
   "metadata": {},
   "outputs": [
    {
     "data": {
      "text/html": [
       "<div>\n",
       "<style scoped>\n",
       "    .dataframe tbody tr th:only-of-type {\n",
       "        vertical-align: middle;\n",
       "    }\n",
       "\n",
       "    .dataframe tbody tr th {\n",
       "        vertical-align: top;\n",
       "    }\n",
       "\n",
       "    .dataframe thead th {\n",
       "        text-align: right;\n",
       "    }\n",
       "</style>\n",
       "<table border=\"1\" class=\"dataframe\">\n",
       "  <thead>\n",
       "    <tr style=\"text-align: right;\">\n",
       "      <th></th>\n",
       "      <th>fruits-vegetables-nuts_100g</th>\n",
       "      <th>salt_100g</th>\n",
       "      <th>fat_100g</th>\n",
       "      <th>proteins_100g</th>\n",
       "      <th>sugars_100g</th>\n",
       "      <th>saturated-fat_100g</th>\n",
       "      <th>energy_100g</th>\n",
       "      <th>nutriscore_score</th>\n",
       "      <th>nutriscore_grade</th>\n",
       "      <th>KNN-imputed-fiber_100g</th>\n",
       "    </tr>\n",
       "  </thead>\n",
       "  <tbody>\n",
       "    <tr>\n",
       "      <th>1002418</th>\n",
       "      <td>100.00</td>\n",
       "      <td>0.00</td>\n",
       "      <td>0.03</td>\n",
       "      <td>0.4</td>\n",
       "      <td>2.0</td>\n",
       "      <td>0.00</td>\n",
       "      <td>113.0</td>\n",
       "      <td>-4.0</td>\n",
       "      <td>b</td>\n",
       "      <td>2.05</td>\n",
       "    </tr>\n",
       "    <tr>\n",
       "      <th>925400</th>\n",
       "      <td>100.00</td>\n",
       "      <td>0.50</td>\n",
       "      <td>0.40</td>\n",
       "      <td>4.9</td>\n",
       "      <td>4.4</td>\n",
       "      <td>0.00</td>\n",
       "      <td>331.0</td>\n",
       "      <td>-11.0</td>\n",
       "      <td>a</td>\n",
       "      <td>6.10</td>\n",
       "    </tr>\n",
       "    <tr>\n",
       "      <th>930026</th>\n",
       "      <td>97.27</td>\n",
       "      <td>0.00</td>\n",
       "      <td>0.80</td>\n",
       "      <td>0.5</td>\n",
       "      <td>12.0</td>\n",
       "      <td>0.20</td>\n",
       "      <td>265.0</td>\n",
       "      <td>-5.0</td>\n",
       "      <td>a</td>\n",
       "      <td>2.00</td>\n",
       "    </tr>\n",
       "    <tr>\n",
       "      <th>925702</th>\n",
       "      <td>100.00</td>\n",
       "      <td>0.83</td>\n",
       "      <td>1.00</td>\n",
       "      <td>8.6</td>\n",
       "      <td>0.9</td>\n",
       "      <td>0.60</td>\n",
       "      <td>456.0</td>\n",
       "      <td>-11.0</td>\n",
       "      <td>a</td>\n",
       "      <td>6.50</td>\n",
       "    </tr>\n",
       "    <tr>\n",
       "      <th>1338578</th>\n",
       "      <td>10.00</td>\n",
       "      <td>0.01</td>\n",
       "      <td>0.00</td>\n",
       "      <td>0.0</td>\n",
       "      <td>1.5</td>\n",
       "      <td>0.00</td>\n",
       "      <td>25.0</td>\n",
       "      <td>2.0</td>\n",
       "      <td>c</td>\n",
       "      <td>0.00</td>\n",
       "    </tr>\n",
       "    <tr>\n",
       "      <th>791741</th>\n",
       "      <td>0.00</td>\n",
       "      <td>1.00</td>\n",
       "      <td>6.30</td>\n",
       "      <td>20.0</td>\n",
       "      <td>0.0</td>\n",
       "      <td>2.10</td>\n",
       "      <td>586.0</td>\n",
       "      <td>1.0</td>\n",
       "      <td>b</td>\n",
       "      <td>1.40</td>\n",
       "    </tr>\n",
       "    <tr>\n",
       "      <th>930874</th>\n",
       "      <td>12.00</td>\n",
       "      <td>0.00</td>\n",
       "      <td>0.50</td>\n",
       "      <td>0.5</td>\n",
       "      <td>9.5</td>\n",
       "      <td>0.10</td>\n",
       "      <td>162.0</td>\n",
       "      <td>13.0</td>\n",
       "      <td>e</td>\n",
       "      <td>0.50</td>\n",
       "    </tr>\n",
       "    <tr>\n",
       "      <th>1306545</th>\n",
       "      <td>100.00</td>\n",
       "      <td>0.00</td>\n",
       "      <td>0.00</td>\n",
       "      <td>0.8</td>\n",
       "      <td>11.4</td>\n",
       "      <td>0.00</td>\n",
       "      <td>230.0</td>\n",
       "      <td>5.0</td>\n",
       "      <td>c</td>\n",
       "      <td>1.30</td>\n",
       "    </tr>\n",
       "    <tr>\n",
       "      <th>993718</th>\n",
       "      <td>55.00</td>\n",
       "      <td>0.01</td>\n",
       "      <td>0.05</td>\n",
       "      <td>0.4</td>\n",
       "      <td>12.0</td>\n",
       "      <td>0.05</td>\n",
       "      <td>226.0</td>\n",
       "      <td>13.0</td>\n",
       "      <td>e</td>\n",
       "      <td>1.00</td>\n",
       "    </tr>\n",
       "    <tr>\n",
       "      <th>732322</th>\n",
       "      <td>50.00</td>\n",
       "      <td>0.02</td>\n",
       "      <td>0.50</td>\n",
       "      <td>0.5</td>\n",
       "      <td>40.0</td>\n",
       "      <td>0.10</td>\n",
       "      <td>690.0</td>\n",
       "      <td>9.0</td>\n",
       "      <td>c</td>\n",
       "      <td>1.20</td>\n",
       "    </tr>\n",
       "  </tbody>\n",
       "</table>\n",
       "</div>"
      ],
      "text/plain": [
       "         fruits-vegetables-nuts_100g  salt_100g  fat_100g  proteins_100g  \\\n",
       "1002418                       100.00       0.00      0.03            0.4   \n",
       "925400                        100.00       0.50      0.40            4.9   \n",
       "930026                         97.27       0.00      0.80            0.5   \n",
       "925702                        100.00       0.83      1.00            8.6   \n",
       "1338578                        10.00       0.01      0.00            0.0   \n",
       "791741                          0.00       1.00      6.30           20.0   \n",
       "930874                         12.00       0.00      0.50            0.5   \n",
       "1306545                       100.00       0.00      0.00            0.8   \n",
       "993718                         55.00       0.01      0.05            0.4   \n",
       "732322                         50.00       0.02      0.50            0.5   \n",
       "\n",
       "         sugars_100g  saturated-fat_100g  energy_100g  nutriscore_score  \\\n",
       "1002418          2.0                0.00        113.0              -4.0   \n",
       "925400           4.4                0.00        331.0             -11.0   \n",
       "930026          12.0                0.20        265.0              -5.0   \n",
       "925702           0.9                0.60        456.0             -11.0   \n",
       "1338578          1.5                0.00         25.0               2.0   \n",
       "791741           0.0                2.10        586.0               1.0   \n",
       "930874           9.5                0.10        162.0              13.0   \n",
       "1306545         11.4                0.00        230.0               5.0   \n",
       "993718          12.0                0.05        226.0              13.0   \n",
       "732322          40.0                0.10        690.0               9.0   \n",
       "\n",
       "        nutriscore_grade  KNN-imputed-fiber_100g  \n",
       "1002418                b                    2.05  \n",
       "925400                 a                    6.10  \n",
       "930026                 a                    2.00  \n",
       "925702                 a                    6.50  \n",
       "1338578                c                    0.00  \n",
       "791741                 b                    1.40  \n",
       "930874                 e                    0.50  \n",
       "1306545                c                    1.30  \n",
       "993718                 e                    1.00  \n",
       "732322                 c                    1.20  "
      ]
     },
     "execution_count": 61,
     "metadata": {},
     "output_type": "execute_result"
    }
   ],
   "source": [
    "data.sample(10)"
   ]
  },
  {
   "cell_type": "markdown",
   "id": "e446d146-d949-4d49-9751-a26da3669ce4",
   "metadata": {},
   "source": [
    "A nouveau nous faisons passer nutriscore et nutrigrade aux dernières colonnes ce qui nous permettra un traitement plus facile dans la partie analyse."
   ]
  },
  {
   "cell_type": "code",
   "execution_count": 62,
   "id": "35665da5-3990-4497-9e1c-d32b4009ab17",
   "metadata": {},
   "outputs": [],
   "source": [
    "nutriScore = data.pop('nutriscore_score')\n",
    "nutriGrade = data.pop('nutriscore_grade')\n",
    "data.insert(len(data.columns),'nutriscore_score',nutriScore)\n",
    "data.insert(len(data.columns),'nutriscore_grade',nutriGrade)"
   ]
  },
  {
   "cell_type": "code",
   "execution_count": 63,
   "id": "b97918c9-e3da-4cc5-920c-42b22a3c9b8b",
   "metadata": {},
   "outputs": [
    {
     "data": {
      "text/html": [
       "<div>\n",
       "<style scoped>\n",
       "    .dataframe tbody tr th:only-of-type {\n",
       "        vertical-align: middle;\n",
       "    }\n",
       "\n",
       "    .dataframe tbody tr th {\n",
       "        vertical-align: top;\n",
       "    }\n",
       "\n",
       "    .dataframe thead th {\n",
       "        text-align: right;\n",
       "    }\n",
       "</style>\n",
       "<table border=\"1\" class=\"dataframe\">\n",
       "  <thead>\n",
       "    <tr style=\"text-align: right;\">\n",
       "      <th></th>\n",
       "      <th>fruits-vegetables-nuts_100g</th>\n",
       "      <th>salt_100g</th>\n",
       "      <th>fat_100g</th>\n",
       "      <th>proteins_100g</th>\n",
       "      <th>sugars_100g</th>\n",
       "      <th>saturated-fat_100g</th>\n",
       "      <th>energy_100g</th>\n",
       "      <th>KNN-imputed-fiber_100g</th>\n",
       "      <th>nutriscore_score</th>\n",
       "      <th>nutriscore_grade</th>\n",
       "    </tr>\n",
       "  </thead>\n",
       "  <tbody>\n",
       "    <tr>\n",
       "      <th>729914</th>\n",
       "      <td>10.10</td>\n",
       "      <td>0.90</td>\n",
       "      <td>7.3</td>\n",
       "      <td>8.5</td>\n",
       "      <td>1.5</td>\n",
       "      <td>1.3</td>\n",
       "      <td>764.0</td>\n",
       "      <td>1.2</td>\n",
       "      <td>0.0</td>\n",
       "      <td>b</td>\n",
       "    </tr>\n",
       "    <tr>\n",
       "      <th>927040</th>\n",
       "      <td>99.00</td>\n",
       "      <td>0.00</td>\n",
       "      <td>0.5</td>\n",
       "      <td>0.5</td>\n",
       "      <td>11.0</td>\n",
       "      <td>0.0</td>\n",
       "      <td>239.0</td>\n",
       "      <td>2.1</td>\n",
       "      <td>-5.0</td>\n",
       "      <td>a</td>\n",
       "    </tr>\n",
       "    <tr>\n",
       "      <th>968635</th>\n",
       "      <td>22.00</td>\n",
       "      <td>0.53</td>\n",
       "      <td>15.8</td>\n",
       "      <td>8.1</td>\n",
       "      <td>1.3</td>\n",
       "      <td>4.9</td>\n",
       "      <td>919.0</td>\n",
       "      <td>1.9</td>\n",
       "      <td>2.0</td>\n",
       "      <td>b</td>\n",
       "    </tr>\n",
       "    <tr>\n",
       "      <th>925413</th>\n",
       "      <td>100.00</td>\n",
       "      <td>0.55</td>\n",
       "      <td>0.3</td>\n",
       "      <td>0.6</td>\n",
       "      <td>2.2</td>\n",
       "      <td>0.1</td>\n",
       "      <td>96.0</td>\n",
       "      <td>2.3</td>\n",
       "      <td>-5.0</td>\n",
       "      <td>a</td>\n",
       "    </tr>\n",
       "    <tr>\n",
       "      <th>940352</th>\n",
       "      <td>50.00</td>\n",
       "      <td>0.09</td>\n",
       "      <td>0.5</td>\n",
       "      <td>0.5</td>\n",
       "      <td>63.0</td>\n",
       "      <td>0.5</td>\n",
       "      <td>1382.0</td>\n",
       "      <td>3.9</td>\n",
       "      <td>13.0</td>\n",
       "      <td>d</td>\n",
       "    </tr>\n",
       "    <tr>\n",
       "      <th>747323</th>\n",
       "      <td>40.00</td>\n",
       "      <td>0.83</td>\n",
       "      <td>5.0</td>\n",
       "      <td>8.5</td>\n",
       "      <td>0.8</td>\n",
       "      <td>1.8</td>\n",
       "      <td>481.0</td>\n",
       "      <td>2.0</td>\n",
       "      <td>-2.0</td>\n",
       "      <td>a</td>\n",
       "    </tr>\n",
       "    <tr>\n",
       "      <th>928928</th>\n",
       "      <td>60.55</td>\n",
       "      <td>0.90</td>\n",
       "      <td>5.6</td>\n",
       "      <td>1.4</td>\n",
       "      <td>4.5</td>\n",
       "      <td>0.8</td>\n",
       "      <td>334.0</td>\n",
       "      <td>1.8</td>\n",
       "      <td>0.0</td>\n",
       "      <td>b</td>\n",
       "    </tr>\n",
       "    <tr>\n",
       "      <th>507432</th>\n",
       "      <td>0.00</td>\n",
       "      <td>2.00</td>\n",
       "      <td>21.0</td>\n",
       "      <td>9.0</td>\n",
       "      <td>5.0</td>\n",
       "      <td>13.0</td>\n",
       "      <td>1025.0</td>\n",
       "      <td>0.0</td>\n",
       "      <td>17.0</td>\n",
       "      <td>d</td>\n",
       "    </tr>\n",
       "    <tr>\n",
       "      <th>929472</th>\n",
       "      <td>6.70</td>\n",
       "      <td>0.50</td>\n",
       "      <td>17.0</td>\n",
       "      <td>6.6</td>\n",
       "      <td>30.0</td>\n",
       "      <td>7.4</td>\n",
       "      <td>1904.0</td>\n",
       "      <td>3.0</td>\n",
       "      <td>17.0</td>\n",
       "      <td>d</td>\n",
       "    </tr>\n",
       "    <tr>\n",
       "      <th>509167</th>\n",
       "      <td>0.00</td>\n",
       "      <td>1.10</td>\n",
       "      <td>1.7</td>\n",
       "      <td>22.0</td>\n",
       "      <td>0.8</td>\n",
       "      <td>0.6</td>\n",
       "      <td>481.0</td>\n",
       "      <td>1.3</td>\n",
       "      <td>-1.0</td>\n",
       "      <td>a</td>\n",
       "    </tr>\n",
       "  </tbody>\n",
       "</table>\n",
       "</div>"
      ],
      "text/plain": [
       "        fruits-vegetables-nuts_100g  salt_100g  fat_100g  proteins_100g  \\\n",
       "729914                        10.10       0.90       7.3            8.5   \n",
       "927040                        99.00       0.00       0.5            0.5   \n",
       "968635                        22.00       0.53      15.8            8.1   \n",
       "925413                       100.00       0.55       0.3            0.6   \n",
       "940352                        50.00       0.09       0.5            0.5   \n",
       "747323                        40.00       0.83       5.0            8.5   \n",
       "928928                        60.55       0.90       5.6            1.4   \n",
       "507432                         0.00       2.00      21.0            9.0   \n",
       "929472                         6.70       0.50      17.0            6.6   \n",
       "509167                         0.00       1.10       1.7           22.0   \n",
       "\n",
       "        sugars_100g  saturated-fat_100g  energy_100g  KNN-imputed-fiber_100g  \\\n",
       "729914          1.5                 1.3        764.0                     1.2   \n",
       "927040         11.0                 0.0        239.0                     2.1   \n",
       "968635          1.3                 4.9        919.0                     1.9   \n",
       "925413          2.2                 0.1         96.0                     2.3   \n",
       "940352         63.0                 0.5       1382.0                     3.9   \n",
       "747323          0.8                 1.8        481.0                     2.0   \n",
       "928928          4.5                 0.8        334.0                     1.8   \n",
       "507432          5.0                13.0       1025.0                     0.0   \n",
       "929472         30.0                 7.4       1904.0                     3.0   \n",
       "509167          0.8                 0.6        481.0                     1.3   \n",
       "\n",
       "        nutriscore_score nutriscore_grade  \n",
       "729914               0.0                b  \n",
       "927040              -5.0                a  \n",
       "968635               2.0                b  \n",
       "925413              -5.0                a  \n",
       "940352              13.0                d  \n",
       "747323              -2.0                a  \n",
       "928928               0.0                b  \n",
       "507432              17.0                d  \n",
       "929472              17.0                d  \n",
       "509167              -1.0                a  "
      ]
     },
     "execution_count": 63,
     "metadata": {},
     "output_type": "execute_result"
    }
   ],
   "source": [
    "data.sample(10)"
   ]
  },
  {
   "cell_type": "markdown",
   "id": "2c5033c2-9092-44ba-9d05-2730f5e1487a",
   "metadata": {},
   "source": [
    "### Le travail de préparation est terminé."
   ]
  },
  {
   "cell_type": "markdown",
   "id": "8686ea9f-226c-404e-a8c4-51c99490e136",
   "metadata": {},
   "source": [
    "Nous écrivons les données sur disque et poursuivons la démarche dans le notebook suivant."
   ]
  },
  {
   "cell_type": "code",
   "execution_count": 64,
   "id": "ad384d54-6465-4a3b-91d4-03bda8f3bb9d",
   "metadata": {},
   "outputs": [],
   "source": [
    "data.to_csv('data_clean.csv',\n",
    "            sep='\\t',\n",
    "            index = False)"
   ]
  }
 ],
 "metadata": {
  "kernelspec": {
   "display_name": "Python 3 (ipykernel)",
   "language": "python",
   "name": "python3"
  },
  "language_info": {
   "codemirror_mode": {
    "name": "ipython",
    "version": 3
   },
   "file_extension": ".py",
   "mimetype": "text/x-python",
   "name": "python",
   "nbconvert_exporter": "python",
   "pygments_lexer": "ipython3",
   "version": "3.8.8"
  }
 },
 "nbformat": 4,
 "nbformat_minor": 5
}
